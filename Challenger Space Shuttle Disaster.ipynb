{
 "cells": [
  {
   "cell_type": "code",
   "execution_count": 16,
   "metadata": {},
   "outputs": [],
   "source": [
    "%matplotlib inline\n",
    "\n",
    "from IPython.core.pylabtools import figsize\n",
    "import numpy as np\n",
    "from scipy import stats\n",
    "import matplotlib.pyplot as plt\n",
    "import pymc3 as pm\n",
    "import theano.tensor as tt"
   ]
  },
  {
   "cell_type": "code",
   "execution_count": 29,
   "metadata": {},
   "outputs": [
    {
     "data": {
      "text/plain": [
       "array([[66.,  0.],\n",
       "       [70.,  1.],\n",
       "       [69.,  0.],\n",
       "       [80., nan],\n",
       "       [68.,  0.],\n",
       "       [67.,  0.],\n",
       "       [72.,  0.],\n",
       "       [73.,  0.],\n",
       "       [70.,  0.],\n",
       "       [57.,  1.],\n",
       "       [63.,  1.],\n",
       "       [70.,  1.],\n",
       "       [78.,  0.],\n",
       "       [67.,  0.],\n",
       "       [53.,  1.],\n",
       "       [67.,  0.],\n",
       "       [75.,  0.],\n",
       "       [70.,  0.],\n",
       "       [81.,  0.],\n",
       "       [76.,  0.],\n",
       "       [79.,  0.],\n",
       "       [75.,  1.],\n",
       "       [76.,  0.],\n",
       "       [58.,  1.],\n",
       "       [31., nan]])"
      ]
     },
     "execution_count": 29,
     "metadata": {},
     "output_type": "execute_result"
    }
   ],
   "source": [
    "# Load the challenger data\n",
    "data = np.genfromtxt('data/challenger_data.csv', skip_header=1, delimiter=',', usecols=[1, 2])\n",
    "data"
   ]
  },
  {
   "cell_type": "code",
   "execution_count": 30,
   "metadata": {},
   "outputs": [
    {
     "data": {
      "image/png": "[encoded data removed]",
      "text/plain": [
       "<Figure size 864x216 with 1 Axes>"
      ]
     },
     "metadata": {
      "needs_background": "light"
     },
     "output_type": "display_data"
    }
   ],
   "source": [
    "figsize(12, 3)\n",
    "plt.scatter(data[:, 0], data[:, 1])\n",
    "plt.xlabel('Outside temperature')\n",
    "plt.ylabel('Damaged')\n",
    "plt.show()"
   ]
  },
  {
   "cell_type": "markdown",
   "metadata": {},
   "source": [
    "From the above plot, we can see that as the outside temperature lowers, the likelihood of the O-ring getting damaged increases.\n",
    "\n",
    "Let's create a bayesian model to determine the probability of the O-ring getting damaged given the outside temperature."
   ]
  },
  {
   "cell_type": "code",
   "execution_count": 32,
   "metadata": {},
   "outputs": [
    {
     "data": {
      "text/plain": [
       "array([[66.,  0.],\n",
       "       [70.,  1.],\n",
       "       [69.,  0.],\n",
       "       [68.,  0.],\n",
       "       [67.,  0.],\n",
       "       [72.,  0.],\n",
       "       [73.,  0.],\n",
       "       [70.,  0.],\n",
       "       [57.,  1.],\n",
       "       [63.,  1.],\n",
       "       [70.,  1.],\n",
       "       [78.,  0.],\n",
       "       [67.,  0.],\n",
       "       [53.,  1.],\n",
       "       [67.,  0.],\n",
       "       [75.,  0.],\n",
       "       [70.,  0.],\n",
       "       [81.,  0.],\n",
       "       [76.,  0.],\n",
       "       [79.,  0.],\n",
       "       [75.,  1.],\n",
       "       [76.,  0.],\n",
       "       [58.,  1.]])"
      ]
     },
     "execution_count": 32,
     "metadata": {},
     "output_type": "execute_result"
    }
   ],
   "source": [
    "# Remove any missing values\n",
    "data = data[~np.isnan(data[:, 1])]\n",
    "data"
   ]
  },
  {
   "cell_type": "code",
   "execution_count": 33,
   "metadata": {},
   "outputs": [
    {
     "name": "stderr",
     "output_type": "stream",
     "text": [
      "logp = -19.024, ||grad|| = 9.9071: 100%|██████████| 27/27 [00:00<00:00, 1763.88it/s]  \n",
      "Multiprocess sampling (2 chains in 2 jobs)\n",
      "CompoundStep\n",
      ">Metropolis: [alpha]\n",
      ">Metropolis: [beta]\n",
      "Sampling 2 chains, 0 divergences: 100%|██████████| 241000/241000 [00:58<00:00, 4146.01draws/s]\n",
      "The estimated number of effective samples is smaller than 200 for some parameters.\n"
     ]
    }
   ],
   "source": [
    "# To model the probability we define a logistic regression model\n",
    "temperature = data[:, 0]\n",
    "damaged = data[:, 1]\n",
    "\n",
    "with pm.Model() as model:\n",
    "    # Define our priors\n",
    "    beta = pm.Normal('beta', mu=0, tau=0.001, testval=0)\n",
    "    alpha = pm.Normal('alpha', mu=0, tau=0.001, testval=0)\n",
    "    p = pm.Deterministic('p', 1./(1. + tt.exp(beta*temperature + alpha)))\n",
    "    \n",
    "    obs = pm.Bernoulli('obs', p, observed=damaged)\n",
    "    start = pm.find_MAP()\n",
    "    step = pm.Metropolis()\n",
    "    trace = pm.sample(120000, start=start, step=step)\n",
    "    burned_trace = trace[100000::2]"
   ]
  },
  {
   "cell_type": "code",
   "execution_count": 34,
   "metadata": {},
   "outputs": [
    {
     "data": {
      "text/plain": [
       "array([0.35451003, 0.35451003, 0.35451003, ..., 0.42375907, 0.42375907,\n",
       "       0.42375907])"
      ]
     },
     "execution_count": 34,
     "metadata": {},
     "output_type": "execute_result"
    }
   ],
   "source": [
    "burned_trace['beta']"
   ]
  },
  {
   "cell_type": "code",
   "execution_count": 35,
   "metadata": {},
   "outputs": [
    {
     "data": {
      "text/plain": [
       "array([-23.99022086, -23.18305717, -23.18305717, ..., -28.25833652,\n",
       "       -28.01684618, -27.47184966])"
      ]
     },
     "execution_count": 35,
     "metadata": {},
     "output_type": "execute_result"
    }
   ],
   "source": [
    "burned_trace['alpha']"
   ]
  },
  {
   "cell_type": "code",
   "execution_count": 39,
   "metadata": {},
   "outputs": [
    {
     "data": {
      "image/png": "[encoded data removed]",
      "text/plain": [
       "<Figure size 864x720 with 2 Axes>"
      ]
     },
     "metadata": {
      "needs_background": "light"
     },
     "output_type": "display_data"
    }
   ],
   "source": [
    "figsize(12, 10)\n",
    "\n",
    "plt.subplot(211)\n",
    "plt.hist(burned_trace['beta'], bins=70, density=True)\n",
    "plt.title(\"Beta\")\n",
    "\n",
    "plt.subplot(212)\n",
    "plt.hist(burned_trace['alpha'], bins=70, density=True)\n",
    "plt.title(\"Alpha\")\n",
    "\n",
    "plt.show()"
   ]
  },
  {
   "cell_type": "markdown",
   "metadata": {},
   "source": [
    "Given we have few samples, the posterior distribution has a wide range of values. We are very uncertain about the values of `alpha` and `beta`. Additionally, the values of `alpha` are negative. As the temperature decreases the likelihood of a damage to occur increases. "
   ]
  },
  {
   "cell_type": "markdown",
   "metadata": {},
   "source": [
    "Given the temperature, how uncertain are we about our prediction. Let's determine the 95% confidence intervals."
   ]
  },
  {
   "cell_type": "code",
   "execution_count": 51,
   "metadata": {},
   "outputs": [],
   "source": [
    "# Generate some temperature values\n",
    "t = np.linspace(temperature.min() - 5, temperature.max()+5, 50)"
   ]
  },
  {
   "cell_type": "code",
   "execution_count": 64,
   "metadata": {},
   "outputs": [],
   "source": [
    "def logistic(temp, beta, alpha):\n",
    "    return 1./(1. + np.exp(np.dot(beta, temp) + alpha))"
   ]
  },
  {
   "cell_type": "code",
   "execution_count": 97,
   "metadata": {},
   "outputs": [],
   "source": [
    "probs = logistic(t[:, None].T, burned_trace['beta'][:, None], burned_trace['alpha'][:, None])\n",
    "expected_probs = probs.mean(axis=0)"
   ]
  },
  {
   "cell_type": "code",
   "execution_count": 100,
   "metadata": {},
   "outputs": [],
   "source": [
    "# Determine the 95% CI\n",
    "qs = stats.mstats.mquantiles(probs, [0.025, 0.975], axis=0)"
   ]
  },
  {
   "cell_type": "code",
   "execution_count": 107,
   "metadata": {},
   "outputs": [
    {
     "data": {
      "image/png": "[encoded data removed]",
      "text/plain": [
       "<Figure size 864x360 with 1 Axes>"
      ]
     },
     "metadata": {
      "needs_background": "light"
     },
     "output_type": "display_data"
    }
   ],
   "source": [
    "plt.fill_between(t, *qs, alpha=0.7, label=\"95% CI\")\n",
    "plt.scatter(t, expected_probs, label=\"Expected probability\")\n",
    "plt.scatter(data[:, 0], data[:, 1], label=\"Observed data\")\n",
    "plt.legend(loc=\"lower left\")\n",
    "plt.show()"
   ]
  },
  {
   "cell_type": "markdown",
   "metadata": {},
   "source": [
    "As the temperature value increases, we are more confident our results relative to when the temperature value is between 55-60."
   ]
  },
  {
   "cell_type": "markdown",
   "metadata": {},
   "source": [
    "## What about the day of the Challenger disaster?"
   ]
  },
  {
   "cell_type": "markdown",
   "metadata": {},
   "source": [
    "On the day of the Challenger disaster, the outside temperature was 31 degrees Fahrenheit. What is the posterior distribution of a defect occurring, given this temperature?"
   ]
  },
  {
   "cell_type": "code",
   "execution_count": 113,
   "metadata": {},
   "outputs": [
    {
     "data": {
      "image/png": "[encoded data removed]",
      "text/plain": [
       "<Figure size 864x360 with 1 Axes>"
      ]
     },
     "metadata": {
      "needs_background": "light"
     },
     "output_type": "display_data"
    }
   ],
   "source": [
    "prob_31 = logistic(31, burned_trace['beta'], burned_trace['alpha'])\n",
    "ci_prob_31 = stats.mstats.mquantiles(prob_31, [0.025, 0.975])\n",
    "\n",
    "plt.hist(prob_31)\n",
    "plt.title(\"Expected probability on day of disaster {:.3f}, ({:.3f}, {:.3f})\".format(\n",
    "    prob_31.mean(), ci_prob_31[0], ci_prob_31[1]))\n",
    "plt.show()"
   ]
  },
  {
   "cell_type": "code",
   "execution_count": null,
   "metadata": {},
   "outputs": [],
   "source": []
  }
 ],
 "metadata": {
  "kernelspec": {
   "display_name": "Python 3",
   "language": "python",
   "name": "python3"
  },
  "language_info": {
   "codemirror_mode": {
    "name": "ipython",
    "version": 3
   },
   "file_extension": ".py",
   "mimetype": "text/x-python",
   "name": "python",
   "nbconvert_exporter": "python",
   "pygments_lexer": "ipython3",
   "version": "3.7.4"
  }
 },
 "nbformat": 4,
 "nbformat_minor": 2
}
