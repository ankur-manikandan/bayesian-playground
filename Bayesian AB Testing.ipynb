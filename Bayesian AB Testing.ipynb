{
 "cells": [
  {
   "cell_type": "code",
   "execution_count": 13,
   "metadata": {},
   "outputs": [],
   "source": [
    "%matplotlib inline\n",
    "\n",
    "from IPython.core.pylabtools import figsize\n",
    "import numpy as np\n",
    "import pymc3 as pm\n",
    "import matplotlib.pyplot as plt\n",
    "from scipy import stats"
   ]
  },
  {
   "cell_type": "markdown",
   "metadata": {},
   "source": [
    "Let's say we have two versions of a signup page and we want to determine which version gives us a better conversion rate. In the real-world we can never determine the true conversion rate. Instead we rely on observing some data and from that data we determine the observed converion rate. \n",
    "\n",
    "Let's take a look at a simple example."
   ]
  },
  {
   "cell_type": "code",
   "execution_count": 5,
   "metadata": {},
   "outputs": [],
   "source": [
    "# The true conversion rate for version A\n",
    "p_a_true = 0.05"
   ]
  },
  {
   "cell_type": "code",
   "execution_count": 8,
   "metadata": {},
   "outputs": [
    {
     "name": "stdout",
     "output_type": "stream",
     "text": [
      "The observed conversion rate is 0.056\n"
     ]
    }
   ],
   "source": [
    "# Number of observations\n",
    "N = 1500\n",
    "\n",
    "# Generate random observations\n",
    "obs = stats.bernoulli.rvs(p_a_true, size=N)\n",
    "print(\"The observed conversion rate is {}\".format(obs.sum()/N))"
   ]
  },
  {
   "cell_type": "code",
   "execution_count": 9,
   "metadata": {},
   "outputs": [
    {
     "name": "stderr",
     "output_type": "stream",
     "text": [
      "Multiprocess sampling (2 chains in 2 jobs)\n",
      "Metropolis: [p]\n",
      "Sampling 2 chains, 0 divergences: 100%|██████████| 37000/37000 [00:06<00:00, 6042.40draws/s]\n",
      "The number of effective samples is smaller than 25% for some parameters.\n"
     ]
    }
   ],
   "source": [
    "# Let's build a bayesian model to determine the uncertainty in our observed conversion rate\n",
    "\n",
    "# Define a prior\n",
    "with pm.Model() as model:\n",
    "    p = pm.Uniform('p', lower=0, upper=1)  # prior for our bernoulli model\n",
    "    obs_post = pm.Bernoulli(\"obs\", p, observed=obs)\n",
    "    step = pm.Metropolis()\n",
    "    trace = pm.sample(18000, step)\n",
    "    burned_trace = trace[1000:]"
   ]
  },
  {
   "cell_type": "code",
   "execution_count": 15,
   "metadata": {},
   "outputs": [
    {
     "name": "stderr",
     "output_type": "stream",
     "text": [
      "/Users/ankurm/anaconda3/lib/python3.7/site-packages/ipykernel_launcher.py:2: MatplotlibDeprecationWarning: \n",
      "The 'normed' kwarg was deprecated in Matplotlib 2.1 and will be removed in 3.1. Use 'density' instead.\n",
      "  \n"
     ]
    },
    {
     "data": {
      "image/png": "[encoded data removed]",
      "text/plain": [
       "<Figure size 720x504 with 1 Axes>"
      ]
     },
     "metadata": {
      "needs_background": "light"
     },
     "output_type": "display_data"
    },
    {
     "name": "stdout",
     "output_type": "stream",
     "text": [
      "Mean of observed conversion rate 0.05659909109131139\n"
     ]
    }
   ],
   "source": [
    "figsize(10, 7)\n",
    "plt.hist(burned_trace['p'], bins=100, normed=True)\n",
    "plt.show()\n",
    "\n",
    "print(\"Mean of observed conversion rate {}\".format(burned_trace['p'].mean()))"
   ]
  },
  {
   "cell_type": "markdown",
   "metadata": {},
   "source": [
    "The posterior distribution puts most weight around the value that was observed in our data. Additionally, the distribution also helps us determine the uncertainty in the observed value. The model applies some weights to the tails as well. "
   ]
  },
  {
   "cell_type": "markdown",
   "metadata": {},
   "source": [
    "Now let's perform the same analysis for version B. But what we are most interested in analyzing is which version is better. So let us define this variable as `delta = conversion rate A - conversion rate B`."
   ]
  },
  {
   "cell_type": "code",
   "execution_count": 20,
   "metadata": {},
   "outputs": [
    {
     "name": "stdout",
     "output_type": "stream",
     "text": [
      "Observed conversion rate for version A 0.05466666666666667\n",
      "Observed conversion rate for version B 0.02666666666666667\n"
     ]
    }
   ],
   "source": [
    "# Define the true covnersion rates\n",
    "p_true_a = 0.05\n",
    "p_true_b = 0.03\n",
    "\n",
    "# Number of observations for each version\n",
    "N_a = 1500\n",
    "N_b = 750\n",
    "\n",
    "# Simulate some data\n",
    "obs_a = stats.bernoulli.rvs(p_true_a, size=N_a)\n",
    "obs_b = stats.bernoulli.rvs(p_true_b, size=N_b)\n",
    "\n",
    "print(\"Observed conversion rate for version A {}\".format(obs_a.mean()))\n",
    "print(\"Observed conversion rate for version B {}\".format(obs_b.mean()))"
   ]
  },
  {
   "cell_type": "code",
   "execution_count": 21,
   "metadata": {},
   "outputs": [
    {
     "name": "stderr",
     "output_type": "stream",
     "text": [
      "Multiprocess sampling (2 chains in 2 jobs)\n",
      "CompoundStep\n",
      ">Metropolis: [p_b]\n",
      ">Metropolis: [p_a]\n",
      "Sampling 2 chains, 0 divergences: 100%|██████████| 41000/41000 [00:10<00:00, 3955.04draws/s]\n",
      "The number of effective samples is smaller than 25% for some parameters.\n"
     ]
    }
   ],
   "source": [
    "# Determine the posterior distributions\n",
    "with pm.Model() as model:\n",
    "    # Define the priors\n",
    "    p_a = pm.Uniform('p_a', lower=0, upper=1)\n",
    "    p_b = pm.Uniform('p_b', lower=0, upper=1)\n",
    "    \n",
    "    delta = pm.Deterministic('delta', p_a - p_b)\n",
    "    \n",
    "    post_obs_a = pm.Bernoulli('obs_a', p_a, observed=obs_a)\n",
    "    post_obs_b = pm.Bernoulli('obs_b', p_b, observed=obs_b)\n",
    "    step = pm.Metropolis()\n",
    "    trace = pm.sample(20000, step=step)\n",
    "    burned_trace = trace[1000:]"
   ]
  },
  {
   "cell_type": "code",
   "execution_count": 26,
   "metadata": {},
   "outputs": [
    {
     "data": {
      "image/png": "[encoded data removed]",
      "text/plain": [
       "<Figure size 720x720 with 3 Axes>"
      ]
     },
     "metadata": {
      "needs_background": "light"
     },
     "output_type": "display_data"
    }
   ],
   "source": [
    "figsize(10, 10)\n",
    "\n",
    "plt.subplot(311)\n",
    "plt.hist(burned_trace['p_a'], bins=75, density=True)\n",
    "plt.title('p_A')\n",
    "\n",
    "plt.subplot(312)\n",
    "plt.hist(burned_trace['p_b'], bins=75, density=True)\n",
    "plt.title('p_B')\n",
    "\n",
    "plt.subplot(313)\n",
    "plt.hist(burned_trace['delta'], bins=75, density=True)\n",
    "plt.title('Delta')\n",
    "\n",
    "plt.show()"
   ]
  },
  {
   "cell_type": "code",
   "execution_count": 28,
   "metadata": {},
   "outputs": [
    {
     "name": "stdout",
     "output_type": "stream",
     "text": [
      "Probability version A is worse than B 0.0010263157894736842\n",
      "Probability version A is better than B 0.9989736842105263\n"
     ]
    }
   ],
   "source": [
    "print(\"Probability version A is worse than B {}\".format(np.mean(burned_trace['delta'] < 0)))\n",
    "print(\"Probability version A is better than B {}\".format(np.mean(burned_trace['delta'] > 0)))"
   ]
  },
  {
   "cell_type": "markdown",
   "metadata": {},
   "source": [
    "The probability that version A is better than B is 0.999, so we can be confident that version A is better than version B despite version B having half the number of observations as version A."
   ]
  },
  {
   "cell_type": "code",
   "execution_count": null,
   "metadata": {},
   "outputs": [],
   "source": []
  }
 ],
 "metadata": {
  "kernelspec": {
   "display_name": "Python 3",
   "language": "python",
   "name": "python3"
  },
  "language_info": {
   "codemirror_mode": {
    "name": "ipython",
    "version": 3
   },
   "file_extension": ".py",
   "mimetype": "text/x-python",
   "name": "python",
   "nbconvert_exporter": "python",
   "pygments_lexer": "ipython3",
   "version": "3.7.4"
  }
 },
 "nbformat": 4,
 "nbformat_minor": 2
}
